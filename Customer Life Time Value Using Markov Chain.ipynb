{
 "cells": [
  {
   "cell_type": "code",
   "execution_count": 1,
   "metadata": {
    "collapsed": false
   },
   "outputs": [],
   "source": [
    "# !pip install -U pandasql "
   ]
  },
  {
   "cell_type": "markdown",
   "metadata": {},
   "source": [
    "# Load Data"
   ]
  },
  {
   "cell_type": "code",
   "execution_count": 2,
   "metadata": {
    "collapsed": false
   },
   "outputs": [
    {
     "name": "stdout",
     "output_type": "stream",
     "text": [
      "Populating the interactive namespace from numpy and matplotlib\n"
     ]
    }
   ],
   "source": [
    "import pandas as pd\n",
    "import numpy as np\n",
    "import matplotlib.pyplot as plt\n",
    "# import seaborn as sns\n",
    "% pylab inline \n",
    "from pandasql import sqldf\n",
    "from collections import Counter"
   ]
  },
  {
   "cell_type": "code",
   "execution_count": 3,
   "metadata": {
    "collapsed": false
   },
   "outputs": [],
   "source": [
    "data = pd.read_csv('purchases.txt', sep=\"\\t\", header = None)\n",
    "data.columns = [\"customer_id\", \"purchase_amount\", \"date_of_purchase\"]"
   ]
  },
  {
   "cell_type": "code",
   "execution_count": 4,
   "metadata": {
    "collapsed": false,
    "scrolled": true
   },
   "outputs": [
    {
     "data": {
      "text/html": [
       "<div>\n",
       "<table border=\"1\" class=\"dataframe\">\n",
       "  <thead>\n",
       "    <tr style=\"text-align: right;\">\n",
       "      <th></th>\n",
       "      <th>customer_id</th>\n",
       "      <th>purchase_amount</th>\n",
       "      <th>date_of_purchase</th>\n",
       "    </tr>\n",
       "  </thead>\n",
       "  <tbody>\n",
       "    <tr>\n",
       "      <th>0</th>\n",
       "      <td>760</td>\n",
       "      <td>25.0</td>\n",
       "      <td>2009-11-06</td>\n",
       "    </tr>\n",
       "    <tr>\n",
       "      <th>1</th>\n",
       "      <td>860</td>\n",
       "      <td>50.0</td>\n",
       "      <td>2012-09-28</td>\n",
       "    </tr>\n",
       "    <tr>\n",
       "      <th>2</th>\n",
       "      <td>1200</td>\n",
       "      <td>100.0</td>\n",
       "      <td>2005-10-25</td>\n",
       "    </tr>\n",
       "    <tr>\n",
       "      <th>3</th>\n",
       "      <td>1420</td>\n",
       "      <td>50.0</td>\n",
       "      <td>2009-07-09</td>\n",
       "    </tr>\n",
       "    <tr>\n",
       "      <th>4</th>\n",
       "      <td>1940</td>\n",
       "      <td>70.0</td>\n",
       "      <td>2013-01-25</td>\n",
       "    </tr>\n",
       "  </tbody>\n",
       "</table>\n",
       "</div>"
      ],
      "text/plain": [
       "   customer_id  purchase_amount date_of_purchase\n",
       "0          760             25.0       2009-11-06\n",
       "1          860             50.0       2012-09-28\n",
       "2         1200            100.0       2005-10-25\n",
       "3         1420             50.0       2009-07-09\n",
       "4         1940             70.0       2013-01-25"
      ]
     },
     "execution_count": 4,
     "metadata": {},
     "output_type": "execute_result"
    }
   ],
   "source": [
    "data.head()"
   ]
  },
  {
   "cell_type": "code",
   "execution_count": 5,
   "metadata": {
    "collapsed": false
   },
   "outputs": [
    {
     "data": {
      "text/plain": [
       "'2015-12-31'"
      ]
     },
     "execution_count": 5,
     "metadata": {},
     "output_type": "execute_result"
    }
   ],
   "source": [
    "max(data['date_of_purchase'])"
   ]
  },
  {
   "cell_type": "code",
   "execution_count": 6,
   "metadata": {
    "collapsed": false,
    "scrolled": true
   },
   "outputs": [
    {
     "name": "stderr",
     "output_type": "stream",
     "text": [
      "/Users/Charlotte/anaconda/lib/python3.5/site-packages/ipykernel/__main__.py:1: FutureWarning: sort(columns=....) is deprecated, use sort_values(by=.....)\n",
      "  if __name__ == '__main__':\n"
     ]
    }
   ],
   "source": [
    "data = data.sort(columns = [\"customer_id\", \"date_of_purchase\"])"
   ]
  },
  {
   "cell_type": "code",
   "execution_count": 7,
   "metadata": {
    "collapsed": false
   },
   "outputs": [],
   "source": [
    "data['date_of_purchase'] = pd.to_datetime(data['date_of_purchase'])"
   ]
  },
  {
   "cell_type": "code",
   "execution_count": 8,
   "metadata": {
    "collapsed": true
   },
   "outputs": [],
   "source": [
    "data['month_purchase'] = data['date_of_purchase'].apply(lambda x: x.month)"
   ]
  },
  {
   "cell_type": "code",
   "execution_count": 9,
   "metadata": {
    "collapsed": true
   },
   "outputs": [],
   "source": [
    "data['year_purchase'] = data['date_of_purchase'].apply(lambda x: x.year)"
   ]
  },
  {
   "cell_type": "code",
   "execution_count": 10,
   "metadata": {
    "collapsed": true
   },
   "outputs": [],
   "source": [
    "data['year_of_purchase'] = pd.DatetimeIndex(data['date_of_purchase']).year\n",
    "data['days_since'] = (pd.Timestamp('2016-01-01') - data['date_of_purchase']).dt.days"
   ]
  },
  {
   "cell_type": "code",
   "execution_count": 11,
   "metadata": {
    "collapsed": false,
    "scrolled": false
   },
   "outputs": [
    {
     "data": {
      "text/html": [
       "<div>\n",
       "<table border=\"1\" class=\"dataframe\">\n",
       "  <thead>\n",
       "    <tr style=\"text-align: right;\">\n",
       "      <th></th>\n",
       "      <th>customer_id</th>\n",
       "      <th>purchase_amount</th>\n",
       "      <th>date_of_purchase</th>\n",
       "      <th>month_purchase</th>\n",
       "      <th>year_purchase</th>\n",
       "      <th>year_of_purchase</th>\n",
       "      <th>days_since</th>\n",
       "    </tr>\n",
       "  </thead>\n",
       "  <tbody>\n",
       "    <tr>\n",
       "      <th>46421</th>\n",
       "      <td>10</td>\n",
       "      <td>30.0</td>\n",
       "      <td>2005-07-08</td>\n",
       "      <td>7</td>\n",
       "      <td>2005</td>\n",
       "      <td>2005</td>\n",
       "      <td>3829</td>\n",
       "    </tr>\n",
       "    <tr>\n",
       "      <th>40141</th>\n",
       "      <td>80</td>\n",
       "      <td>50.0</td>\n",
       "      <td>2005-09-24</td>\n",
       "      <td>9</td>\n",
       "      <td>2005</td>\n",
       "      <td>2005</td>\n",
       "      <td>3751</td>\n",
       "    </tr>\n",
       "    <tr>\n",
       "      <th>15624</th>\n",
       "      <td>80</td>\n",
       "      <td>60.0</td>\n",
       "      <td>2007-04-18</td>\n",
       "      <td>4</td>\n",
       "      <td>2007</td>\n",
       "      <td>2007</td>\n",
       "      <td>3180</td>\n",
       "    </tr>\n",
       "    <tr>\n",
       "      <th>46422</th>\n",
       "      <td>80</td>\n",
       "      <td>70.0</td>\n",
       "      <td>2009-04-10</td>\n",
       "      <td>4</td>\n",
       "      <td>2009</td>\n",
       "      <td>2009</td>\n",
       "      <td>2457</td>\n",
       "    </tr>\n",
       "    <tr>\n",
       "      <th>11457</th>\n",
       "      <td>80</td>\n",
       "      <td>80.0</td>\n",
       "      <td>2011-08-05</td>\n",
       "      <td>8</td>\n",
       "      <td>2011</td>\n",
       "      <td>2011</td>\n",
       "      <td>1610</td>\n",
       "    </tr>\n",
       "  </tbody>\n",
       "</table>\n",
       "</div>"
      ],
      "text/plain": [
       "       customer_id  purchase_amount date_of_purchase  month_purchase  \\\n",
       "46421           10             30.0       2005-07-08               7   \n",
       "40141           80             50.0       2005-09-24               9   \n",
       "15624           80             60.0       2007-04-18               4   \n",
       "46422           80             70.0       2009-04-10               4   \n",
       "11457           80             80.0       2011-08-05               8   \n",
       "\n",
       "       year_purchase  year_of_purchase  days_since  \n",
       "46421           2005              2005        3829  \n",
       "40141           2005              2005        3751  \n",
       "15624           2007              2007        3180  \n",
       "46422           2009              2009        2457  \n",
       "11457           2011              2011        1610  "
      ]
     },
     "execution_count": 11,
     "metadata": {},
     "output_type": "execute_result"
    }
   ],
   "source": [
    "data.head()"
   ]
  },
  {
   "cell_type": "markdown",
   "metadata": {},
   "source": [
    "# Segmentation"
   ]
  },
  {
   "cell_type": "code",
   "execution_count": 12,
   "metadata": {
    "collapsed": false,
    "scrolled": true
   },
   "outputs": [
    {
     "name": "stderr",
     "output_type": "stream",
     "text": [
      "/Users/Charlotte/anaconda/lib/python3.5/site-packages/pandas/core/indexing.py:141: SettingWithCopyWarning: \n",
      "A value is trying to be set on a copy of a slice from a DataFrame\n",
      "\n",
      "See the caveats in the documentation: http://pandas.pydata.org/pandas-docs/stable/indexing.html#indexing-view-versus-copy\n",
      "  self._setitem_with_indexer(indexer, value)\n"
     ]
    }
   ],
   "source": [
    "# Segment customers in 2015\n",
    "customers_2015 = sqldf(\"SELECT customer_id, MIN(days_since) AS 'recency', MAX(days_since) AS 'first_purchase', COUNT(*) AS 'frequency', AVG(purchase_amount) AS 'amount' FROM data GROUP BY 1\", globals())\n",
    "\n",
    "customers_2015['segment']=np.empty(len(customers_2015), dtype=object)\n",
    "customers_2015.segment.loc[customers_2015.recency>3*365] = 'inactive'\n",
    "customers_2015.segment.loc[(customers_2015.recency<=3*365) & (customers_2015.recency>2*365)] = 'cold'\n",
    "customers_2015.segment.loc[(customers_2015.recency<=2*365) & (customers_2015.recency>1*365)] = 'warm'\n",
    "customers_2015.segment.loc[customers_2015.recency<1*365] = 'active'\n",
    "customers_2015.segment.loc[(customers_2015.segment=='warm') & (customers_2015.amount<100)] = 'warm low value'\n",
    "customers_2015.segment.loc[(customers_2015.segment=='warm') & (customers_2015.amount>=100)] = 'warm high value'\n",
    "customers_2015.segment.loc[(customers_2015.segment=='active') & (customers_2015.amount<100)] = 'active low value'\n",
    "customers_2015.segment.loc[(customers_2015.segment=='active') & (customers_2015.amount>=100)] = 'active high value'\n",
    "\n",
    "# customers_2015.segment = customers_2015.segment.astype('category').cat.reorder_categories(['inactive', 'cold', 'warm', 'active','warm high value', 'warm low value', 'active high value', 'active low value'], ordered=True)"
   ]
  },
  {
   "cell_type": "code",
   "execution_count": 13,
   "metadata": {
    "collapsed": true
   },
   "outputs": [],
   "source": [
    "import collections"
   ]
  },
  {
   "cell_type": "code",
   "execution_count": 14,
   "metadata": {
    "collapsed": false,
    "scrolled": false
   },
   "outputs": [
    {
     "data": {
      "text/html": [
       "<div>\n",
       "<table border=\"1\" class=\"dataframe\">\n",
       "  <thead>\n",
       "    <tr style=\"text-align: right;\">\n",
       "      <th></th>\n",
       "      <th>segment</th>\n",
       "      <th>count</th>\n",
       "    </tr>\n",
       "  </thead>\n",
       "  <tbody>\n",
       "    <tr>\n",
       "      <th>0</th>\n",
       "      <td>active high value</td>\n",
       "      <td>836</td>\n",
       "    </tr>\n",
       "    <tr>\n",
       "      <th>1</th>\n",
       "      <td>active low value</td>\n",
       "      <td>4562</td>\n",
       "    </tr>\n",
       "    <tr>\n",
       "      <th>2</th>\n",
       "      <td>cold</td>\n",
       "      <td>1903</td>\n",
       "    </tr>\n",
       "    <tr>\n",
       "      <th>3</th>\n",
       "      <td>inactive</td>\n",
       "      <td>9158</td>\n",
       "    </tr>\n",
       "    <tr>\n",
       "      <th>4</th>\n",
       "      <td>warm high value</td>\n",
       "      <td>235</td>\n",
       "    </tr>\n",
       "    <tr>\n",
       "      <th>5</th>\n",
       "      <td>warm low value</td>\n",
       "      <td>1723</td>\n",
       "    </tr>\n",
       "  </tbody>\n",
       "</table>\n",
       "</div>"
      ],
      "text/plain": [
       "             segment  count\n",
       "0  active high value    836\n",
       "1   active low value   4562\n",
       "2               cold   1903\n",
       "3           inactive   9158\n",
       "4    warm high value    235\n",
       "5     warm low value   1723"
      ]
     },
     "execution_count": 14,
     "metadata": {},
     "output_type": "execute_result"
    }
   ],
   "source": [
    "# notice that we dont have 'warm' and 'new cold'\n",
    "segment_2015 = Counter(customers_2015['segment'])\n",
    "segment_2015 = collections.OrderedDict(sorted(segment_2015.items()))\n",
    "df_segment_2015 = pd.DataFrame(list(segment_2015.items()))\n",
    "df_segment_2015.columns = ['segment','count']\n",
    "\n",
    "df_segment_2015"
   ]
  },
  {
   "cell_type": "code",
   "execution_count": 15,
   "metadata": {
    "collapsed": false,
    "scrolled": true
   },
   "outputs": [
    {
     "data": {
      "text/html": [
       "<div>\n",
       "<table border=\"1\" class=\"dataframe\">\n",
       "  <thead>\n",
       "    <tr style=\"text-align: right;\">\n",
       "      <th></th>\n",
       "      <th>customer_id</th>\n",
       "      <th>recency</th>\n",
       "      <th>first_purchase</th>\n",
       "      <th>frequency</th>\n",
       "      <th>amount</th>\n",
       "      <th>segment</th>\n",
       "    </tr>\n",
       "  </thead>\n",
       "  <tbody>\n",
       "    <tr>\n",
       "      <th>0</th>\n",
       "      <td>10</td>\n",
       "      <td>3829</td>\n",
       "      <td>3829</td>\n",
       "      <td>1</td>\n",
       "      <td>30.000000</td>\n",
       "      <td>inactive</td>\n",
       "    </tr>\n",
       "    <tr>\n",
       "      <th>1</th>\n",
       "      <td>80</td>\n",
       "      <td>343</td>\n",
       "      <td>3751</td>\n",
       "      <td>7</td>\n",
       "      <td>71.428571</td>\n",
       "      <td>active low value</td>\n",
       "    </tr>\n",
       "    <tr>\n",
       "      <th>2</th>\n",
       "      <td>90</td>\n",
       "      <td>758</td>\n",
       "      <td>3783</td>\n",
       "      <td>10</td>\n",
       "      <td>115.800000</td>\n",
       "      <td>cold</td>\n",
       "    </tr>\n",
       "    <tr>\n",
       "      <th>3</th>\n",
       "      <td>120</td>\n",
       "      <td>1401</td>\n",
       "      <td>1401</td>\n",
       "      <td>1</td>\n",
       "      <td>20.000000</td>\n",
       "      <td>inactive</td>\n",
       "    </tr>\n",
       "    <tr>\n",
       "      <th>4</th>\n",
       "      <td>130</td>\n",
       "      <td>2970</td>\n",
       "      <td>3710</td>\n",
       "      <td>2</td>\n",
       "      <td>50.000000</td>\n",
       "      <td>inactive</td>\n",
       "    </tr>\n",
       "  </tbody>\n",
       "</table>\n",
       "</div>"
      ],
      "text/plain": [
       "   customer_id  recency  first_purchase  frequency      amount  \\\n",
       "0           10     3829            3829          1   30.000000   \n",
       "1           80      343            3751          7   71.428571   \n",
       "2           90      758            3783         10  115.800000   \n",
       "3          120     1401            1401          1   20.000000   \n",
       "4          130     2970            3710          2   50.000000   \n",
       "\n",
       "            segment  \n",
       "0          inactive  \n",
       "1  active low value  \n",
       "2              cold  \n",
       "3          inactive  \n",
       "4          inactive  "
      ]
     },
     "execution_count": 15,
     "metadata": {},
     "output_type": "execute_result"
    }
   ],
   "source": [
    "customers_2015.head()"
   ]
  },
  {
   "cell_type": "code",
   "execution_count": 16,
   "metadata": {
    "collapsed": false
   },
   "outputs": [
    {
     "name": "stderr",
     "output_type": "stream",
     "text": [
      "/Users/Charlotte/anaconda/lib/python3.5/site-packages/pandas/core/indexing.py:141: SettingWithCopyWarning: \n",
      "A value is trying to be set on a copy of a slice from a DataFrame\n",
      "\n",
      "See the caveats in the documentation: http://pandas.pydata.org/pandas-docs/stable/indexing.html#indexing-view-versus-copy\n",
      "  self._setitem_with_indexer(indexer, value)\n"
     ]
    }
   ],
   "source": [
    "# Segment customers in 2014\n",
    "customers_2014 = sqldf(\"SELECT customer_id, MIN(days_since) - 365 AS 'recency', MAX(days_since) - 365 AS 'first_purchase', COUNT(*) AS 'frequency', AVG(purchase_amount) AS 'amount' FROM data WHERE days_since > 365 GROUP BY 1\", globals())\n",
    "\n",
    "customers_2014['segment']=np.empty(len(customers_2014), dtype=object)\n",
    "customers_2014.segment.loc[customers_2014.recency>3*365] = 'inactive'\n",
    "customers_2014.segment.loc[(customers_2014.recency<=3*365) & (customers_2014.recency>2*365)] = 'cold'\n",
    "customers_2014.segment.loc[(customers_2014.recency<=2*365) & (customers_2014.recency>1*365)] = 'warm'\n",
    "customers_2014.segment.loc[customers_2014.recency<1*365] = 'active'\n",
    "customers_2014.segment.loc[(customers_2014.segment=='warm') & (customers_2014.amount<100)] = 'warm low value'\n",
    "customers_2014.segment.loc[(customers_2014.segment=='warm') & (customers_2014.amount>=100)] = 'warm high value'\n",
    "customers_2014.segment.loc[(customers_2014.segment=='active') & (customers_2014.amount<100)] = 'active low value'\n",
    "customers_2014.segment.loc[(customers_2014.segment=='active') & (customers_2014.amount>=100)] = 'active high value'\n",
    "\n",
    "# customers_2014.segment = customers_2014.segment.astype('category').cat.reorder_categories(['inactive', 'cold', 'warm high value', 'warm low value', 'new warm', 'active high value', 'active low value', 'new active'], ordered=True)\n",
    "\n"
   ]
  },
  {
   "cell_type": "code",
   "execution_count": 17,
   "metadata": {
    "collapsed": false,
    "scrolled": true
   },
   "outputs": [
    {
     "data": {
      "text/html": [
       "<div>\n",
       "<table border=\"1\" class=\"dataframe\">\n",
       "  <thead>\n",
       "    <tr style=\"text-align: right;\">\n",
       "      <th></th>\n",
       "      <th>customer_id</th>\n",
       "      <th>recency</th>\n",
       "      <th>first_purchase</th>\n",
       "      <th>frequency</th>\n",
       "      <th>amount</th>\n",
       "      <th>segment</th>\n",
       "    </tr>\n",
       "  </thead>\n",
       "  <tbody>\n",
       "    <tr>\n",
       "      <th>0</th>\n",
       "      <td>10</td>\n",
       "      <td>3464</td>\n",
       "      <td>3464</td>\n",
       "      <td>1</td>\n",
       "      <td>30.0</td>\n",
       "      <td>inactive</td>\n",
       "    </tr>\n",
       "    <tr>\n",
       "      <th>1</th>\n",
       "      <td>80</td>\n",
       "      <td>302</td>\n",
       "      <td>3386</td>\n",
       "      <td>6</td>\n",
       "      <td>70.0</td>\n",
       "      <td>active low value</td>\n",
       "    </tr>\n",
       "    <tr>\n",
       "      <th>2</th>\n",
       "      <td>90</td>\n",
       "      <td>393</td>\n",
       "      <td>3418</td>\n",
       "      <td>10</td>\n",
       "      <td>115.8</td>\n",
       "      <td>warm high value</td>\n",
       "    </tr>\n",
       "    <tr>\n",
       "      <th>3</th>\n",
       "      <td>120</td>\n",
       "      <td>1036</td>\n",
       "      <td>1036</td>\n",
       "      <td>1</td>\n",
       "      <td>20.0</td>\n",
       "      <td>cold</td>\n",
       "    </tr>\n",
       "    <tr>\n",
       "      <th>4</th>\n",
       "      <td>130</td>\n",
       "      <td>2605</td>\n",
       "      <td>3345</td>\n",
       "      <td>2</td>\n",
       "      <td>50.0</td>\n",
       "      <td>inactive</td>\n",
       "    </tr>\n",
       "  </tbody>\n",
       "</table>\n",
       "</div>"
      ],
      "text/plain": [
       "   customer_id  recency  first_purchase  frequency  amount           segment\n",
       "0           10     3464            3464          1    30.0          inactive\n",
       "1           80      302            3386          6    70.0  active low value\n",
       "2           90      393            3418         10   115.8   warm high value\n",
       "3          120     1036            1036          1    20.0              cold\n",
       "4          130     2605            3345          2    50.0          inactive"
      ]
     },
     "execution_count": 17,
     "metadata": {},
     "output_type": "execute_result"
    }
   ],
   "source": [
    "customers_2014.head()"
   ]
  },
  {
   "cell_type": "code",
   "execution_count": 18,
   "metadata": {
    "collapsed": false,
    "scrolled": true
   },
   "outputs": [
    {
     "data": {
      "text/html": [
       "<div>\n",
       "<table border=\"1\" class=\"dataframe\">\n",
       "  <thead>\n",
       "    <tr style=\"text-align: right;\">\n",
       "      <th></th>\n",
       "      <th>segment</th>\n",
       "      <th>count</th>\n",
       "    </tr>\n",
       "  </thead>\n",
       "  <tbody>\n",
       "    <tr>\n",
       "      <th>0</th>\n",
       "      <td>active high value</td>\n",
       "      <td>678</td>\n",
       "    </tr>\n",
       "    <tr>\n",
       "      <th>1</th>\n",
       "      <td>active low value</td>\n",
       "      <td>4245</td>\n",
       "    </tr>\n",
       "    <tr>\n",
       "      <th>2</th>\n",
       "      <td>cold</td>\n",
       "      <td>2153</td>\n",
       "    </tr>\n",
       "    <tr>\n",
       "      <th>3</th>\n",
       "      <td>inactive</td>\n",
       "      <td>7512</td>\n",
       "    </tr>\n",
       "    <tr>\n",
       "      <th>4</th>\n",
       "      <td>warm high value</td>\n",
       "      <td>238</td>\n",
       "    </tr>\n",
       "    <tr>\n",
       "      <th>5</th>\n",
       "      <td>warm low value</td>\n",
       "      <td>2079</td>\n",
       "    </tr>\n",
       "  </tbody>\n",
       "</table>\n",
       "</div>"
      ],
      "text/plain": [
       "             segment  count\n",
       "0  active high value    678\n",
       "1   active low value   4245\n",
       "2               cold   2153\n",
       "3           inactive   7512\n",
       "4    warm high value    238\n",
       "5     warm low value   2079"
      ]
     },
     "execution_count": 18,
     "metadata": {},
     "output_type": "execute_result"
    }
   ],
   "source": [
    "segment_2014 = Counter(customers_2014['segment'])\n",
    "segment_2014 =collections.OrderedDict(sorted(segment_2014.items()))\n",
    "df_segment_2014 = pd.DataFrame(list(segment_2014.items()))\n",
    "df_segment_2014.columns = ['segment','count']\n",
    "\n",
    "df_segment_2014"
   ]
  },
  {
   "cell_type": "markdown",
   "metadata": {},
   "source": [
    "# Transition Matrix"
   ]
  },
  {
   "cell_type": "code",
   "execution_count": 19,
   "metadata": {
    "collapsed": false,
    "scrolled": false
   },
   "outputs": [
    {
     "data": {
      "text/html": [
       "<div>\n",
       "<table border=\"1\" class=\"dataframe\">\n",
       "  <thead>\n",
       "    <tr style=\"text-align: right;\">\n",
       "      <th></th>\n",
       "      <th>customer_id</th>\n",
       "      <th>recency_x</th>\n",
       "      <th>first_purchase_x</th>\n",
       "      <th>frequency_x</th>\n",
       "      <th>amount_x</th>\n",
       "      <th>segment_x</th>\n",
       "      <th>recency_y</th>\n",
       "      <th>first_purchase_y</th>\n",
       "      <th>frequency_y</th>\n",
       "      <th>amount_y</th>\n",
       "      <th>segment_y</th>\n",
       "    </tr>\n",
       "  </thead>\n",
       "  <tbody>\n",
       "    <tr>\n",
       "      <th>0</th>\n",
       "      <td>10</td>\n",
       "      <td>3464</td>\n",
       "      <td>3464</td>\n",
       "      <td>1</td>\n",
       "      <td>30.0</td>\n",
       "      <td>inactive</td>\n",
       "      <td>3829</td>\n",
       "      <td>3829</td>\n",
       "      <td>1</td>\n",
       "      <td>30.000000</td>\n",
       "      <td>inactive</td>\n",
       "    </tr>\n",
       "    <tr>\n",
       "      <th>1</th>\n",
       "      <td>80</td>\n",
       "      <td>302</td>\n",
       "      <td>3386</td>\n",
       "      <td>6</td>\n",
       "      <td>70.0</td>\n",
       "      <td>active low value</td>\n",
       "      <td>343</td>\n",
       "      <td>3751</td>\n",
       "      <td>7</td>\n",
       "      <td>71.428571</td>\n",
       "      <td>active low value</td>\n",
       "    </tr>\n",
       "    <tr>\n",
       "      <th>2</th>\n",
       "      <td>90</td>\n",
       "      <td>393</td>\n",
       "      <td>3418</td>\n",
       "      <td>10</td>\n",
       "      <td>115.8</td>\n",
       "      <td>warm high value</td>\n",
       "      <td>758</td>\n",
       "      <td>3783</td>\n",
       "      <td>10</td>\n",
       "      <td>115.800000</td>\n",
       "      <td>cold</td>\n",
       "    </tr>\n",
       "    <tr>\n",
       "      <th>3</th>\n",
       "      <td>120</td>\n",
       "      <td>1036</td>\n",
       "      <td>1036</td>\n",
       "      <td>1</td>\n",
       "      <td>20.0</td>\n",
       "      <td>cold</td>\n",
       "      <td>1401</td>\n",
       "      <td>1401</td>\n",
       "      <td>1</td>\n",
       "      <td>20.000000</td>\n",
       "      <td>inactive</td>\n",
       "    </tr>\n",
       "    <tr>\n",
       "      <th>4</th>\n",
       "      <td>130</td>\n",
       "      <td>2605</td>\n",
       "      <td>3345</td>\n",
       "      <td>2</td>\n",
       "      <td>50.0</td>\n",
       "      <td>inactive</td>\n",
       "      <td>2970</td>\n",
       "      <td>3710</td>\n",
       "      <td>2</td>\n",
       "      <td>50.000000</td>\n",
       "      <td>inactive</td>\n",
       "    </tr>\n",
       "  </tbody>\n",
       "</table>\n",
       "</div>"
      ],
      "text/plain": [
       "   customer_id  recency_x  first_purchase_x  frequency_x  amount_x  \\\n",
       "0           10       3464              3464            1      30.0   \n",
       "1           80        302              3386            6      70.0   \n",
       "2           90        393              3418           10     115.8   \n",
       "3          120       1036              1036            1      20.0   \n",
       "4          130       2605              3345            2      50.0   \n",
       "\n",
       "          segment_x  recency_y  first_purchase_y  frequency_y    amount_y  \\\n",
       "0          inactive       3829              3829            1   30.000000   \n",
       "1  active low value        343              3751            7   71.428571   \n",
       "2   warm high value        758              3783           10  115.800000   \n",
       "3              cold       1401              1401            1   20.000000   \n",
       "4          inactive       2970              3710            2   50.000000   \n",
       "\n",
       "          segment_y  \n",
       "0          inactive  \n",
       "1  active low value  \n",
       "2              cold  \n",
       "3          inactive  \n",
       "4          inactive  "
      ]
     },
     "execution_count": 19,
     "metadata": {},
     "output_type": "execute_result"
    }
   ],
   "source": [
    "# Compute transition matrix\n",
    "new_data = pd.merge(customers_2014, customers_2015, on='customer_id', how='left')\n",
    "new_data.head()"
   ]
  },
  {
   "cell_type": "code",
   "execution_count": 20,
   "metadata": {
    "collapsed": false,
    "scrolled": false
   },
   "outputs": [
    {
     "data": {
      "text/html": [
       "<div>\n",
       "<table border=\"1\" class=\"dataframe\">\n",
       "  <thead>\n",
       "    <tr style=\"text-align: right;\">\n",
       "      <th>segment_y</th>\n",
       "      <th>active high value</th>\n",
       "      <th>active low value</th>\n",
       "      <th>cold</th>\n",
       "      <th>inactive</th>\n",
       "      <th>warm high value</th>\n",
       "      <th>warm low value</th>\n",
       "    </tr>\n",
       "    <tr>\n",
       "      <th>segment_x</th>\n",
       "      <th></th>\n",
       "      <th></th>\n",
       "      <th></th>\n",
       "      <th></th>\n",
       "      <th></th>\n",
       "      <th></th>\n",
       "    </tr>\n",
       "  </thead>\n",
       "  <tbody>\n",
       "    <tr>\n",
       "      <th>active high value</th>\n",
       "      <td>436</td>\n",
       "      <td>7</td>\n",
       "      <td>0</td>\n",
       "      <td>0</td>\n",
       "      <td>235</td>\n",
       "      <td>0</td>\n",
       "    </tr>\n",
       "    <tr>\n",
       "      <th>active low value</th>\n",
       "      <td>29</td>\n",
       "      <td>2493</td>\n",
       "      <td>0</td>\n",
       "      <td>0</td>\n",
       "      <td>0</td>\n",
       "      <td>1723</td>\n",
       "    </tr>\n",
       "    <tr>\n",
       "      <th>cold</th>\n",
       "      <td>22</td>\n",
       "      <td>200</td>\n",
       "      <td>0</td>\n",
       "      <td>1931</td>\n",
       "      <td>0</td>\n",
       "      <td>0</td>\n",
       "    </tr>\n",
       "    <tr>\n",
       "      <th>inactive</th>\n",
       "      <td>35</td>\n",
       "      <td>250</td>\n",
       "      <td>0</td>\n",
       "      <td>7227</td>\n",
       "      <td>0</td>\n",
       "      <td>0</td>\n",
       "    </tr>\n",
       "    <tr>\n",
       "      <th>warm high value</th>\n",
       "      <td>50</td>\n",
       "      <td>1</td>\n",
       "      <td>187</td>\n",
       "      <td>0</td>\n",
       "      <td>0</td>\n",
       "      <td>0</td>\n",
       "    </tr>\n",
       "    <tr>\n",
       "      <th>warm low value</th>\n",
       "      <td>1</td>\n",
       "      <td>362</td>\n",
       "      <td>1716</td>\n",
       "      <td>0</td>\n",
       "      <td>0</td>\n",
       "      <td>0</td>\n",
       "    </tr>\n",
       "  </tbody>\n",
       "</table>\n",
       "</div>"
      ],
      "text/plain": [
       "segment_y          active high value  active low value  cold  inactive  \\\n",
       "segment_x                                                                \n",
       "active high value                436                 7     0         0   \n",
       "active low value                  29              2493     0         0   \n",
       "cold                              22               200     0      1931   \n",
       "inactive                          35               250     0      7227   \n",
       "warm high value                   50                 1   187         0   \n",
       "warm low value                     1               362  1716         0   \n",
       "\n",
       "segment_y          warm high value  warm low value  \n",
       "segment_x                                           \n",
       "active high value              235               0  \n",
       "active low value                 0            1723  \n",
       "cold                             0               0  \n",
       "inactive                         0               0  \n",
       "warm high value                  0               0  \n",
       "warm low value                   0               0  "
      ]
     },
     "execution_count": 20,
     "metadata": {},
     "output_type": "execute_result"
    }
   ],
   "source": [
    "transition = pd.crosstab(new_data.segment_x, new_data.segment_y)\n",
    "transition"
   ]
  },
  {
   "cell_type": "code",
   "execution_count": 21,
   "metadata": {
    "collapsed": false,
    "scrolled": true
   },
   "outputs": [
    {
     "data": {
      "text/html": [
       "<div>\n",
       "<table border=\"1\" class=\"dataframe\">\n",
       "  <thead>\n",
       "    <tr style=\"text-align: right;\">\n",
       "      <th>segment_y</th>\n",
       "      <th>active high value</th>\n",
       "      <th>active low value</th>\n",
       "      <th>cold</th>\n",
       "      <th>inactive</th>\n",
       "      <th>warm high value</th>\n",
       "      <th>warm low value</th>\n",
       "    </tr>\n",
       "    <tr>\n",
       "      <th>segment_x</th>\n",
       "      <th></th>\n",
       "      <th></th>\n",
       "      <th></th>\n",
       "      <th></th>\n",
       "      <th></th>\n",
       "      <th></th>\n",
       "    </tr>\n",
       "  </thead>\n",
       "  <tbody>\n",
       "    <tr>\n",
       "      <th>active high value</th>\n",
       "      <td>0.643068</td>\n",
       "      <td>0.010324</td>\n",
       "      <td>0.000000</td>\n",
       "      <td>0.000000</td>\n",
       "      <td>0.346608</td>\n",
       "      <td>0.000000</td>\n",
       "    </tr>\n",
       "    <tr>\n",
       "      <th>active low value</th>\n",
       "      <td>0.006832</td>\n",
       "      <td>0.587279</td>\n",
       "      <td>0.000000</td>\n",
       "      <td>0.000000</td>\n",
       "      <td>0.000000</td>\n",
       "      <td>0.405889</td>\n",
       "    </tr>\n",
       "    <tr>\n",
       "      <th>cold</th>\n",
       "      <td>0.010218</td>\n",
       "      <td>0.092894</td>\n",
       "      <td>0.000000</td>\n",
       "      <td>0.896888</td>\n",
       "      <td>0.000000</td>\n",
       "      <td>0.000000</td>\n",
       "    </tr>\n",
       "    <tr>\n",
       "      <th>inactive</th>\n",
       "      <td>0.004659</td>\n",
       "      <td>0.033280</td>\n",
       "      <td>0.000000</td>\n",
       "      <td>0.962061</td>\n",
       "      <td>0.000000</td>\n",
       "      <td>0.000000</td>\n",
       "    </tr>\n",
       "    <tr>\n",
       "      <th>warm high value</th>\n",
       "      <td>0.210084</td>\n",
       "      <td>0.004202</td>\n",
       "      <td>0.785714</td>\n",
       "      <td>0.000000</td>\n",
       "      <td>0.000000</td>\n",
       "      <td>0.000000</td>\n",
       "    </tr>\n",
       "    <tr>\n",
       "      <th>warm low value</th>\n",
       "      <td>0.000481</td>\n",
       "      <td>0.174122</td>\n",
       "      <td>0.825397</td>\n",
       "      <td>0.000000</td>\n",
       "      <td>0.000000</td>\n",
       "      <td>0.000000</td>\n",
       "    </tr>\n",
       "  </tbody>\n",
       "</table>\n",
       "</div>"
      ],
      "text/plain": [
       "segment_y          active high value  active low value      cold  inactive  \\\n",
       "segment_x                                                                    \n",
       "active high value           0.643068          0.010324  0.000000  0.000000   \n",
       "active low value            0.006832          0.587279  0.000000  0.000000   \n",
       "cold                        0.010218          0.092894  0.000000  0.896888   \n",
       "inactive                    0.004659          0.033280  0.000000  0.962061   \n",
       "warm high value             0.210084          0.004202  0.785714  0.000000   \n",
       "warm low value              0.000481          0.174122  0.825397  0.000000   \n",
       "\n",
       "segment_y          warm high value  warm low value  \n",
       "segment_x                                           \n",
       "active high value         0.346608        0.000000  \n",
       "active low value          0.000000        0.405889  \n",
       "cold                      0.000000        0.000000  \n",
       "inactive                  0.000000        0.000000  \n",
       "warm high value           0.000000        0.000000  \n",
       "warm low value            0.000000        0.000000  "
      ]
     },
     "execution_count": 21,
     "metadata": {},
     "output_type": "execute_result"
    }
   ],
   "source": [
    "transition = transition.apply(lambda r: r/r.sum(), axis=1)\n",
    "transition"
   ]
  },
  {
   "cell_type": "code",
   "execution_count": 22,
   "metadata": {
    "collapsed": false
   },
   "outputs": [
    {
     "data": {
      "text/html": [
       "<div>\n",
       "<table border=\"1\" class=\"dataframe\">\n",
       "  <thead>\n",
       "    <tr style=\"text-align: right;\">\n",
       "      <th></th>\n",
       "      <th>2015</th>\n",
       "      <th>2016</th>\n",
       "      <th>2017</th>\n",
       "      <th>2018</th>\n",
       "      <th>2019</th>\n",
       "      <th>2020</th>\n",
       "      <th>2021</th>\n",
       "      <th>2022</th>\n",
       "      <th>2023</th>\n",
       "      <th>2024</th>\n",
       "      <th>2025</th>\n",
       "    </tr>\n",
       "  </thead>\n",
       "  <tbody>\n",
       "    <tr>\n",
       "      <th>inactive</th>\n",
       "      <td>9158.0</td>\n",
       "      <td>0.0</td>\n",
       "      <td>0.0</td>\n",
       "      <td>0.0</td>\n",
       "      <td>0.0</td>\n",
       "      <td>0.0</td>\n",
       "      <td>0.0</td>\n",
       "      <td>0.0</td>\n",
       "      <td>0.0</td>\n",
       "      <td>0.0</td>\n",
       "      <td>0.0</td>\n",
       "    </tr>\n",
       "    <tr>\n",
       "      <th>active low value</th>\n",
       "      <td>4562.0</td>\n",
       "      <td>0.0</td>\n",
       "      <td>0.0</td>\n",
       "      <td>0.0</td>\n",
       "      <td>0.0</td>\n",
       "      <td>0.0</td>\n",
       "      <td>0.0</td>\n",
       "      <td>0.0</td>\n",
       "      <td>0.0</td>\n",
       "      <td>0.0</td>\n",
       "      <td>0.0</td>\n",
       "    </tr>\n",
       "    <tr>\n",
       "      <th>cold</th>\n",
       "      <td>1903.0</td>\n",
       "      <td>0.0</td>\n",
       "      <td>0.0</td>\n",
       "      <td>0.0</td>\n",
       "      <td>0.0</td>\n",
       "      <td>0.0</td>\n",
       "      <td>0.0</td>\n",
       "      <td>0.0</td>\n",
       "      <td>0.0</td>\n",
       "      <td>0.0</td>\n",
       "      <td>0.0</td>\n",
       "    </tr>\n",
       "    <tr>\n",
       "      <th>warm low value</th>\n",
       "      <td>1723.0</td>\n",
       "      <td>0.0</td>\n",
       "      <td>0.0</td>\n",
       "      <td>0.0</td>\n",
       "      <td>0.0</td>\n",
       "      <td>0.0</td>\n",
       "      <td>0.0</td>\n",
       "      <td>0.0</td>\n",
       "      <td>0.0</td>\n",
       "      <td>0.0</td>\n",
       "      <td>0.0</td>\n",
       "    </tr>\n",
       "    <tr>\n",
       "      <th>warm high value</th>\n",
       "      <td>836.0</td>\n",
       "      <td>0.0</td>\n",
       "      <td>0.0</td>\n",
       "      <td>0.0</td>\n",
       "      <td>0.0</td>\n",
       "      <td>0.0</td>\n",
       "      <td>0.0</td>\n",
       "      <td>0.0</td>\n",
       "      <td>0.0</td>\n",
       "      <td>0.0</td>\n",
       "      <td>0.0</td>\n",
       "    </tr>\n",
       "    <tr>\n",
       "      <th>active high value</th>\n",
       "      <td>235.0</td>\n",
       "      <td>0.0</td>\n",
       "      <td>0.0</td>\n",
       "      <td>0.0</td>\n",
       "      <td>0.0</td>\n",
       "      <td>0.0</td>\n",
       "      <td>0.0</td>\n",
       "      <td>0.0</td>\n",
       "      <td>0.0</td>\n",
       "      <td>0.0</td>\n",
       "      <td>0.0</td>\n",
       "    </tr>\n",
       "  </tbody>\n",
       "</table>\n",
       "</div>"
      ],
      "text/plain": [
       "                     2015  2016  2017  2018  2019  2020  2021  2022  2023  \\\n",
       "inactive           9158.0   0.0   0.0   0.0   0.0   0.0   0.0   0.0   0.0   \n",
       "active low value   4562.0   0.0   0.0   0.0   0.0   0.0   0.0   0.0   0.0   \n",
       "cold               1903.0   0.0   0.0   0.0   0.0   0.0   0.0   0.0   0.0   \n",
       "warm low value     1723.0   0.0   0.0   0.0   0.0   0.0   0.0   0.0   0.0   \n",
       "warm high value     836.0   0.0   0.0   0.0   0.0   0.0   0.0   0.0   0.0   \n",
       "active high value   235.0   0.0   0.0   0.0   0.0   0.0   0.0   0.0   0.0   \n",
       "\n",
       "                   2024  2025  \n",
       "inactive            0.0   0.0  \n",
       "active low value    0.0   0.0  \n",
       "cold                0.0   0.0  \n",
       "warm low value      0.0   0.0  \n",
       "warm high value     0.0   0.0  \n",
       "active high value   0.0   0.0  "
      ]
     },
     "execution_count": 22,
     "metadata": {},
     "output_type": "execute_result"
    }
   ],
   "source": [
    "\n",
    "# Initialize a matrix with the number of customers in each segment today and after 10 periods\n",
    "segments = np.zeros(shape=(6,11))\n",
    "segments[:, 0] = customers_2015.segment.value_counts(sort=True)\n",
    "segments = pd.DataFrame(segments, columns= range(2015,2026), index=customers_2015['segment'].unique())\n",
    "segments"
   ]
  },
  {
   "cell_type": "code",
   "execution_count": 23,
   "metadata": {
    "collapsed": true
   },
   "outputs": [],
   "source": [
    "# Compute number of users in each segment for the next 10 years \n",
    "for i in range(2016, 2026):\n",
    "    segments[i] = segments[i-1].dot(transition)\n",
    "    segments[i] = segments[i].fillna(0)\n"
   ]
  },
  {
   "cell_type": "markdown",
   "metadata": {},
   "source": [
    "# Projecting future segmentation"
   ]
  },
  {
   "cell_type": "code",
   "execution_count": 24,
   "metadata": {
    "collapsed": false,
    "scrolled": true
   },
   "outputs": [
    {
     "data": {
      "text/html": [
       "<div>\n",
       "<table border=\"1\" class=\"dataframe\">\n",
       "  <thead>\n",
       "    <tr style=\"text-align: right;\">\n",
       "      <th></th>\n",
       "      <th>2015</th>\n",
       "      <th>2016</th>\n",
       "      <th>2017</th>\n",
       "      <th>2018</th>\n",
       "      <th>2019</th>\n",
       "      <th>2020</th>\n",
       "      <th>2021</th>\n",
       "      <th>2022</th>\n",
       "      <th>2023</th>\n",
       "      <th>2024</th>\n",
       "      <th>2025</th>\n",
       "    </tr>\n",
       "  </thead>\n",
       "  <tbody>\n",
       "    <tr>\n",
       "      <th>inactive</th>\n",
       "      <td>9158.0</td>\n",
       "      <td>10517.329901</td>\n",
       "      <td>11982.954317</td>\n",
       "      <td>12956.496885</td>\n",
       "      <td>13609.382779</td>\n",
       "      <td>14059.724591</td>\n",
       "      <td>14368.602136</td>\n",
       "      <td>14580.417672</td>\n",
       "      <td>14725.826819</td>\n",
       "      <td>14825.700826</td>\n",
       "      <td>14894.339320</td>\n",
       "    </tr>\n",
       "    <tr>\n",
       "      <th>active low value</th>\n",
       "      <td>4562.0</td>\n",
       "      <td>3466.674467</td>\n",
       "      <td>2906.154290</td>\n",
       "      <td>2503.005211</td>\n",
       "      <td>2229.450618</td>\n",
       "      <td>2043.468521</td>\n",
       "      <td>1916.893041</td>\n",
       "      <td>1830.755154</td>\n",
       "      <td>1772.148221</td>\n",
       "      <td>1732.275285</td>\n",
       "      <td>1705.150520</td>\n",
       "    </tr>\n",
       "    <tr>\n",
       "      <th>cold</th>\n",
       "      <td>1903.0</td>\n",
       "      <td>2079.015873</td>\n",
       "      <td>1592.358613</td>\n",
       "      <td>1276.019078</td>\n",
       "      <td>1077.806996</td>\n",
       "      <td>939.129026</td>\n",
       "      <td>843.973995</td>\n",
       "      <td>778.893124</td>\n",
       "      <td>734.273934</td>\n",
       "      <td>703.672162</td>\n",
       "      <td>682.675713</td>\n",
       "    </tr>\n",
       "    <tr>\n",
       "      <th>warm low value</th>\n",
       "      <td>1723.0</td>\n",
       "      <td>1851.666902</td>\n",
       "      <td>1407.086009</td>\n",
       "      <td>1179.576877</td>\n",
       "      <td>1015.942987</td>\n",
       "      <td>904.910110</td>\n",
       "      <td>829.421970</td>\n",
       "      <td>778.046339</td>\n",
       "      <td>743.083894</td>\n",
       "      <td>719.295968</td>\n",
       "      <td>703.111971</td>\n",
       "    </tr>\n",
       "    <tr>\n",
       "      <th>warm high value</th>\n",
       "      <td>836.0</td>\n",
       "      <td>81.452802</td>\n",
       "      <td>145.873323</td>\n",
       "      <td>132.602892</td>\n",
       "      <td>128.001886</td>\n",
       "      <td>123.536080</td>\n",
       "      <td>120.006553</td>\n",
       "      <td>117.188852</td>\n",
       "      <td>114.969368</td>\n",
       "      <td>113.235950</td>\n",
       "      <td>111.891821</td>\n",
       "    </tr>\n",
       "    <tr>\n",
       "      <th>active high value</th>\n",
       "      <td>235.0</td>\n",
       "      <td>420.860054</td>\n",
       "      <td>382.573449</td>\n",
       "      <td>369.299057</td>\n",
       "      <td>356.414734</td>\n",
       "      <td>346.231671</td>\n",
       "      <td>338.102305</td>\n",
       "      <td>331.698859</td>\n",
       "      <td>326.697764</td>\n",
       "      <td>322.819808</td>\n",
       "      <td>319.830655</td>\n",
       "    </tr>\n",
       "  </tbody>\n",
       "</table>\n",
       "</div>"
      ],
      "text/plain": [
       "                     2015          2016          2017          2018  \\\n",
       "inactive           9158.0  10517.329901  11982.954317  12956.496885   \n",
       "active low value   4562.0   3466.674467   2906.154290   2503.005211   \n",
       "cold               1903.0   2079.015873   1592.358613   1276.019078   \n",
       "warm low value     1723.0   1851.666902   1407.086009   1179.576877   \n",
       "warm high value     836.0     81.452802    145.873323    132.602892   \n",
       "active high value   235.0    420.860054    382.573449    369.299057   \n",
       "\n",
       "                           2019          2020          2021          2022  \\\n",
       "inactive           13609.382779  14059.724591  14368.602136  14580.417672   \n",
       "active low value    2229.450618   2043.468521   1916.893041   1830.755154   \n",
       "cold                1077.806996    939.129026    843.973995    778.893124   \n",
       "warm low value      1015.942987    904.910110    829.421970    778.046339   \n",
       "warm high value      128.001886    123.536080    120.006553    117.188852   \n",
       "active high value    356.414734    346.231671    338.102305    331.698859   \n",
       "\n",
       "                           2023          2024          2025  \n",
       "inactive           14725.826819  14825.700826  14894.339320  \n",
       "active low value    1772.148221   1732.275285   1705.150520  \n",
       "cold                 734.273934    703.672162    682.675713  \n",
       "warm low value       743.083894    719.295968    703.111971  \n",
       "warm high value      114.969368    113.235950    111.891821  \n",
       "active high value    326.697764    322.819808    319.830655  "
      ]
     },
     "execution_count": 24,
     "metadata": {},
     "output_type": "execute_result"
    }
   ],
   "source": [
    "segments"
   ]
  },
  {
   "cell_type": "code",
   "execution_count": 25,
   "metadata": {
    "collapsed": false
   },
   "outputs": [
    {
     "data": {
      "text/plain": [
       "<matplotlib.axes._subplots.AxesSubplot at 0x113be5048>"
      ]
     },
     "execution_count": 25,
     "metadata": {},
     "output_type": "execute_result"
    },
    {
     "data": {
      "image/png": "[encoded data removed]",
      "text/plain": [
       "<matplotlib.figure.Figure at 0x113bd1e48>"
      ]
     },
     "metadata": {},
     "output_type": "display_data"
    }
   ],
   "source": [
    "# Plot inactive customers over time\n",
    "segments.iloc[0].plot(kind='bar')"
   ]
  },
  {
   "cell_type": "code",
   "execution_count": 26,
   "metadata": {
    "collapsed": false,
    "scrolled": true
   },
   "outputs": [
    {
     "data": {
      "text/html": [
       "<div>\n",
       "<table border=\"1\" class=\"dataframe\">\n",
       "  <thead>\n",
       "    <tr style=\"text-align: right;\">\n",
       "      <th></th>\n",
       "      <th>2015</th>\n",
       "      <th>2016</th>\n",
       "      <th>2017</th>\n",
       "      <th>2018</th>\n",
       "      <th>2019</th>\n",
       "      <th>2020</th>\n",
       "      <th>2021</th>\n",
       "      <th>2022</th>\n",
       "      <th>2023</th>\n",
       "      <th>2024</th>\n",
       "      <th>2025</th>\n",
       "    </tr>\n",
       "  </thead>\n",
       "  <tbody>\n",
       "    <tr>\n",
       "      <th>inactive</th>\n",
       "      <td>9158.0</td>\n",
       "      <td>10517.0</td>\n",
       "      <td>11983.0</td>\n",
       "      <td>12956.0</td>\n",
       "      <td>13609.0</td>\n",
       "      <td>14060.0</td>\n",
       "      <td>14369.0</td>\n",
       "      <td>14580.0</td>\n",
       "      <td>14726.0</td>\n",
       "      <td>14826.0</td>\n",
       "      <td>14894.0</td>\n",
       "    </tr>\n",
       "    <tr>\n",
       "      <th>active low value</th>\n",
       "      <td>4562.0</td>\n",
       "      <td>3467.0</td>\n",
       "      <td>2906.0</td>\n",
       "      <td>2503.0</td>\n",
       "      <td>2229.0</td>\n",
       "      <td>2043.0</td>\n",
       "      <td>1917.0</td>\n",
       "      <td>1831.0</td>\n",
       "      <td>1772.0</td>\n",
       "      <td>1732.0</td>\n",
       "      <td>1705.0</td>\n",
       "    </tr>\n",
       "    <tr>\n",
       "      <th>cold</th>\n",
       "      <td>1903.0</td>\n",
       "      <td>2079.0</td>\n",
       "      <td>1592.0</td>\n",
       "      <td>1276.0</td>\n",
       "      <td>1078.0</td>\n",
       "      <td>939.0</td>\n",
       "      <td>844.0</td>\n",
       "      <td>779.0</td>\n",
       "      <td>734.0</td>\n",
       "      <td>704.0</td>\n",
       "      <td>683.0</td>\n",
       "    </tr>\n",
       "    <tr>\n",
       "      <th>warm low value</th>\n",
       "      <td>1723.0</td>\n",
       "      <td>1852.0</td>\n",
       "      <td>1407.0</td>\n",
       "      <td>1180.0</td>\n",
       "      <td>1016.0</td>\n",
       "      <td>905.0</td>\n",
       "      <td>829.0</td>\n",
       "      <td>778.0</td>\n",
       "      <td>743.0</td>\n",
       "      <td>719.0</td>\n",
       "      <td>703.0</td>\n",
       "    </tr>\n",
       "    <tr>\n",
       "      <th>warm high value</th>\n",
       "      <td>836.0</td>\n",
       "      <td>81.0</td>\n",
       "      <td>146.0</td>\n",
       "      <td>133.0</td>\n",
       "      <td>128.0</td>\n",
       "      <td>124.0</td>\n",
       "      <td>120.0</td>\n",
       "      <td>117.0</td>\n",
       "      <td>115.0</td>\n",
       "      <td>113.0</td>\n",
       "      <td>112.0</td>\n",
       "    </tr>\n",
       "    <tr>\n",
       "      <th>active high value</th>\n",
       "      <td>235.0</td>\n",
       "      <td>421.0</td>\n",
       "      <td>383.0</td>\n",
       "      <td>369.0</td>\n",
       "      <td>356.0</td>\n",
       "      <td>346.0</td>\n",
       "      <td>338.0</td>\n",
       "      <td>332.0</td>\n",
       "      <td>327.0</td>\n",
       "      <td>323.0</td>\n",
       "      <td>320.0</td>\n",
       "    </tr>\n",
       "  </tbody>\n",
       "</table>\n",
       "</div>"
      ],
      "text/plain": [
       "                     2015     2016     2017     2018     2019     2020  \\\n",
       "inactive           9158.0  10517.0  11983.0  12956.0  13609.0  14060.0   \n",
       "active low value   4562.0   3467.0   2906.0   2503.0   2229.0   2043.0   \n",
       "cold               1903.0   2079.0   1592.0   1276.0   1078.0    939.0   \n",
       "warm low value     1723.0   1852.0   1407.0   1180.0   1016.0    905.0   \n",
       "warm high value     836.0     81.0    146.0    133.0    128.0    124.0   \n",
       "active high value   235.0    421.0    383.0    369.0    356.0    346.0   \n",
       "\n",
       "                      2021     2022     2023     2024     2025  \n",
       "inactive           14369.0  14580.0  14726.0  14826.0  14894.0  \n",
       "active low value    1917.0   1831.0   1772.0   1732.0   1705.0  \n",
       "cold                 844.0    779.0    734.0    704.0    683.0  \n",
       "warm low value       829.0    778.0    743.0    719.0    703.0  \n",
       "warm high value      120.0    117.0    115.0    113.0    112.0  \n",
       "active high value    338.0    332.0    327.0    323.0    320.0  "
      ]
     },
     "execution_count": 26,
     "metadata": {},
     "output_type": "execute_result"
    }
   ],
   "source": [
    "segments.round(0)"
   ]
  },
  {
   "cell_type": "markdown",
   "metadata": {},
   "source": [
    "# Project Future Revenues "
   ]
  },
  {
   "cell_type": "code",
   "execution_count": 27,
   "metadata": {
    "collapsed": true
   },
   "outputs": [],
   "source": [
    "revenue = {}\n",
    "for segment in (customers_2015['segment'].unique()):\n",
    "    revenue[str(segment)] = mean(customers_2015['amount'].ix[customers_2015.segment == str(segment)])   "
   ]
  },
  {
   "cell_type": "code",
   "execution_count": 28,
   "metadata": {
    "collapsed": false,
    "scrolled": true
   },
   "outputs": [
    {
     "data": {
      "text/plain": [
       "{'active high value': 253.678730586067,\n",
       " 'active low value': 38.80261224023298,\n",
       " 'cold': 51.73989327634195,\n",
       " 'inactive': 48.11277078684079,\n",
       " 'warm high value': 314.88386119554207,\n",
       " 'warm low value': 36.10272295909707}"
      ]
     },
     "execution_count": 28,
     "metadata": {},
     "output_type": "execute_result"
    }
   ],
   "source": [
    "revenue"
   ]
  },
  {
   "cell_type": "code",
   "execution_count": 29,
   "metadata": {
    "collapsed": false
   },
   "outputs": [
    {
     "data": {
      "text/plain": [
       "array(['inactive', 'active low value', 'cold', 'warm low value',\n",
       "       'warm high value', 'active high value'], dtype=object)"
      ]
     },
     "execution_count": 29,
     "metadata": {},
     "output_type": "execute_result"
    }
   ],
   "source": [
    "customers_2015['segment'].unique()"
   ]
  },
  {
   "cell_type": "code",
   "execution_count": 30,
   "metadata": {
    "collapsed": false,
    "scrolled": true
   },
   "outputs": [
    {
     "name": "stdout",
     "output_type": "stream",
     "text": [
      "                       2015           2016           2017          2018  \\\n",
      "inactive                0.0       0.000000       0.000000      0.000000   \n",
      "active low value   177005.6  134506.969317  112758.786444  97116.602203   \n",
      "cold                    0.0       0.000000       0.000000      0.000000   \n",
      "warm low value          0.0       0.000000       0.000000      0.000000   \n",
      "warm high value         0.0       0.000000       0.000000      0.000000   \n",
      "active high value   59596.0  106730.109770   97020.626671  93654.240931   \n",
      "\n",
      "                           2019          2020          2021          2022  \\\n",
      "inactive               0.000000      0.000000      0.000000      0.000000   \n",
      "active low value   86502.683989  79286.578622  74375.449997  71033.299983   \n",
      "cold                   0.000000      0.000000      0.000000      0.000000   \n",
      "warm low value         0.000000      0.000000      0.000000      0.000000   \n",
      "warm high value        0.000000      0.000000      0.000000      0.000000   \n",
      "active high value  90386.776599  87804.351831  85742.744654  84118.830603   \n",
      "\n",
      "                           2023          2024          2025  \n",
      "inactive               0.000000      0.000000      0.000000  \n",
      "active low value   68759.350990  67212.281071  66159.840191  \n",
      "cold                   0.000000      0.000000      0.000000  \n",
      "warm low value         0.000000      0.000000      0.000000  \n",
      "warm high value        0.000000      0.000000      0.000000  \n",
      "active high value  82850.552834  81867.103185  81109.054032  \n"
     ]
    }
   ],
   "source": [
    "# --- COMPUTE THE (DISCOUNTED) CLV OF A DATABASE -----------\n",
    "\n",
    "\n",
    "# Yearly revenue per segment\n",
    "# only include 'active high value', 'active low value', 'active'\n",
    "yearly_revenue = pd.Series([0, 38.80, 0, 0,0, 253.6], index=customers_2015['segment'].unique())\n",
    "\n",
    "# Compute revenue per segment\n",
    "revenue_per_segment = segments.multiply(yearly_revenue, axis='index')\n",
    "print(revenue_per_segment)"
   ]
  },
  {
   "cell_type": "code",
   "execution_count": 31,
   "metadata": {
    "collapsed": false
   },
   "outputs": [
    {
     "name": "stdout",
     "output_type": "stream",
     "text": [
      "2015    236602.0\n",
      "2016    241237.0\n",
      "2017    209779.0\n",
      "2018    190771.0\n",
      "2019    176889.0\n",
      "2020    167091.0\n",
      "2021    160118.0\n",
      "2022    155152.0\n",
      "2023    151610.0\n",
      "2024    149079.0\n",
      "2025    147269.0\n",
      "dtype: float64\n"
     ]
    },
    {
     "data": {
      "text/plain": [
       "<matplotlib.axes._subplots.AxesSubplot at 0x1048d5860>"
      ]
     },
     "execution_count": 31,
     "metadata": {},
     "output_type": "execute_result"
    },
    {
     "data": {
      "image/png": "[encoded data removed]",
      "text/plain": [
       "<matplotlib.figure.Figure at 0x117594a90>"
      ]
     },
     "metadata": {},
     "output_type": "display_data"
    }
   ],
   "source": [
    "# Compute yearly revenue\n",
    "yearly_revenue = revenue_per_segment.sum(axis=0)\n",
    "print(yearly_revenue.round(0))\n",
    "yearly_revenue.plot(kind='bar')"
   ]
  },
  {
   "cell_type": "code",
   "execution_count": 32,
   "metadata": {
    "collapsed": false
   },
   "outputs": [
    {
     "name": "stdout",
     "output_type": "stream",
     "text": [
      "2015     236602.0\n",
      "2016     477839.0\n",
      "2017     687618.0\n",
      "2018     878389.0\n",
      "2019    1055278.0\n",
      "2020    1222369.0\n",
      "2021    1382488.0\n",
      "2022    1537640.0\n",
      "2023    1689250.0\n",
      "2024    1838329.0\n",
      "2025    1985598.0\n",
      "dtype: float64\n"
     ]
    },
    {
     "data": {
      "text/plain": [
       "<matplotlib.axes._subplots.AxesSubplot at 0x1141f7128>"
      ]
     },
     "execution_count": 32,
     "metadata": {},
     "output_type": "execute_result"
    },
    {
     "data": {
      "image/png": "[encoded data removed]",
      "text/plain": [
       "<matplotlib.figure.Figure at 0x11870f4e0>"
      ]
     },
     "metadata": {},
     "output_type": "display_data"
    }
   ],
   "source": [
    "# Compute cumulated revenue\n",
    "cumulated_revenue = yearly_revenue.cumsum(axis=0)\n",
    "print(cumulated_revenue.round(0))\n",
    "cumulated_revenue.plot(kind='bar')"
   ]
  },
  {
   "cell_type": "code",
   "execution_count": 33,
   "metadata": {
    "collapsed": false
   },
   "outputs": [],
   "source": [
    "# Create a discount factor\n",
    "discount_rate = 0.10\n",
    "discount = 1 / ((1 + discount_rate) ** np.arange(0,11))\n",
    "# print(discount)"
   ]
  },
  {
   "cell_type": "code",
   "execution_count": 34,
   "metadata": {
    "collapsed": false
   },
   "outputs": [
    {
     "name": "stdout",
     "output_type": "stream",
     "text": [
      "2015    236602.0\n",
      "2016    219306.0\n",
      "2017    173371.0\n",
      "2018    143329.0\n",
      "2019    120818.0\n",
      "2020    103750.0\n",
      "2021     90383.0\n",
      "2022     79618.0\n",
      "2023     70727.0\n",
      "2024     63224.0\n",
      "2025     56779.0\n",
      "dtype: float64\n"
     ]
    },
    {
     "data": {
      "text/plain": [
       "<matplotlib.axes._subplots.AxesSubplot at 0x1048cc0b8>"
      ]
     },
     "execution_count": 34,
     "metadata": {},
     "output_type": "execute_result"
    },
    {
     "data": {
      "image/png": "[encoded data removed]",
      "text/plain": [
       "<matplotlib.figure.Figure at 0x10489d9e8>"
      ]
     },
     "metadata": {},
     "output_type": "display_data"
    }
   ],
   "source": [
    "# Compute discounted yearly revenue\n",
    "disc_yearly_revenue = yearly_revenue.multiply(discount)\n",
    "print(disc_yearly_revenue.round(0))\n",
    "ax1 = disc_yearly_revenue.plot(kind='bar')\n",
    "ax2 = ax1.twiny()\n",
    "yearly_revenue.plot(kind='line', ax=ax2)"
   ]
  },
  {
   "cell_type": "code",
   "execution_count": 35,
   "metadata": {
    "collapsed": false
   },
   "outputs": [
    {
     "data": {
      "image/png": "[encoded data removed]",
      "text/plain": [
       "<matplotlib.figure.Figure at 0x11897a2b0>"
      ]
     },
     "metadata": {},
     "output_type": "display_data"
    }
   ],
   "source": [
    "disc_cumulated_revenue = disc_yearly_revenue.cumsum(axis=0)\n",
    "dcr = plt.bar(range(2015,2026),disc_cumulated_revenue.values)\n",
    "dcr[10].set_color('r')\n",
    "plt.show()"
   ]
  },
  {
   "cell_type": "code",
   "execution_count": 36,
   "metadata": {
    "collapsed": false
   },
   "outputs": [
    {
     "name": "stdout",
     "output_type": "stream",
     "text": [
      "The database is worth $1121305.0 in 10 years\n"
     ]
    }
   ],
   "source": [
    "# What is the database worth?\n",
    "print('The database is worth ${} in 10 years'.format(round(disc_cumulated_revenue[2025] - yearly_revenue[2015]),3))\n"
   ]
  }
 ],
 "metadata": {
  "anaconda-cloud": {},
  "kernelspec": {
   "display_name": "Python [Root]",
   "language": "python",
   "name": "Python [Root]"
  },
  "language_info": {
   "codemirror_mode": {
    "name": "ipython",
    "version": 3
   },
   "file_extension": ".py",
   "mimetype": "text/x-python",
   "name": "python",
   "nbconvert_exporter": "python",
   "pygments_lexer": "ipython3",
   "version": "3.5.2"
  }
 },
 "nbformat": 4,
 "nbformat_minor": 0
}
